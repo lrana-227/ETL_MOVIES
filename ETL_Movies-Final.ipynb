{
 "cells": [
  {
   "cell_type": "markdown",
   "metadata": {},
   "source": [
    "Web Scraping --> Top 100 Movies over the Years "
   ]
  },
  {
   "cell_type": "code",
   "execution_count": 1,
   "metadata": {},
   "outputs": [],
   "source": [
    "import pandas as pd"
   ]
  },
  {
   "cell_type": "code",
   "execution_count": 2,
   "metadata": {},
   "outputs": [],
   "source": [
    "url = 'https://en.wikipedia.org/wiki/AFI%27s_100_Years...100_Movies_(10th_Anniversary_Edition)'"
   ]
  },
  {
   "cell_type": "code",
   "execution_count": 3,
   "metadata": {},
   "outputs": [
    {
     "data": {
      "text/html": [
       "<div>\n",
       "<style scoped>\n",
       "    .dataframe tbody tr th:only-of-type {\n",
       "        vertical-align: middle;\n",
       "    }\n",
       "\n",
       "    .dataframe tbody tr th {\n",
       "        vertical-align: top;\n",
       "    }\n",
       "\n",
       "    .dataframe thead th {\n",
       "        text-align: right;\n",
       "    }\n",
       "</style>\n",
       "<table border=\"1\" class=\"dataframe\">\n",
       "  <thead>\n",
       "    <tr style=\"text-align: right;\">\n",
       "      <th></th>\n",
       "      <th>Rank</th>\n",
       "      <th>10th anniversary list (2007)</th>\n",
       "      <th>Director</th>\n",
       "      <th>Year</th>\n",
       "      <th>Studio</th>\n",
       "      <th>Change from 1998</th>\n",
       "    </tr>\n",
       "  </thead>\n",
       "  <tbody>\n",
       "    <tr>\n",
       "      <th>0</th>\n",
       "      <td>1.0</td>\n",
       "      <td>Citizen Kane</td>\n",
       "      <td>Orson Welles</td>\n",
       "      <td>1941</td>\n",
       "      <td>RKO</td>\n",
       "      <td>NaN</td>\n",
       "    </tr>\n",
       "    <tr>\n",
       "      <th>1</th>\n",
       "      <td>2.0</td>\n",
       "      <td>The Godfather</td>\n",
       "      <td>Francis Ford Coppola</td>\n",
       "      <td>1972</td>\n",
       "      <td>Paramount</td>\n",
       "      <td>1</td>\n",
       "    </tr>\n",
       "    <tr>\n",
       "      <th>2</th>\n",
       "      <td>3.0</td>\n",
       "      <td>Casablanca</td>\n",
       "      <td>Michael Curtiz</td>\n",
       "      <td>1942</td>\n",
       "      <td>Warner Brothers</td>\n",
       "      <td>1</td>\n",
       "    </tr>\n",
       "    <tr>\n",
       "      <th>3</th>\n",
       "      <td>4.0</td>\n",
       "      <td>Raging Bull</td>\n",
       "      <td>Martin Scorsese</td>\n",
       "      <td>1980</td>\n",
       "      <td>United Artists</td>\n",
       "      <td>20</td>\n",
       "    </tr>\n",
       "    <tr>\n",
       "      <th>4</th>\n",
       "      <td>5.0</td>\n",
       "      <td>Singin' in the Rain</td>\n",
       "      <td>Gene Kelly, Stanley Donen</td>\n",
       "      <td>1952</td>\n",
       "      <td>Metro-Goldwyn-Mayer</td>\n",
       "      <td>5</td>\n",
       "    </tr>\n",
       "    <tr>\n",
       "      <th>...</th>\n",
       "      <td>...</td>\n",
       "      <td>...</td>\n",
       "      <td>...</td>\n",
       "      <td>...</td>\n",
       "      <td>...</td>\n",
       "      <td>...</td>\n",
       "    </tr>\n",
       "    <tr>\n",
       "      <th>95</th>\n",
       "      <td>96.0</td>\n",
       "      <td>Do the Right Thing</td>\n",
       "      <td>Spike Lee</td>\n",
       "      <td>1989</td>\n",
       "      <td>Universal, 40 Acres &amp; A Mule Filmworks</td>\n",
       "      <td>NEW</td>\n",
       "    </tr>\n",
       "    <tr>\n",
       "      <th>96</th>\n",
       "      <td>97.0</td>\n",
       "      <td>Blade Runner</td>\n",
       "      <td>Ridley Scott</td>\n",
       "      <td>1982</td>\n",
       "      <td>Warner Brothers, The Ladd Company</td>\n",
       "      <td>NEW</td>\n",
       "    </tr>\n",
       "    <tr>\n",
       "      <th>97</th>\n",
       "      <td>98.0</td>\n",
       "      <td>Yankee Doodle Dandy</td>\n",
       "      <td>Michael Curtiz</td>\n",
       "      <td>1942</td>\n",
       "      <td>Warner Brothers</td>\n",
       "      <td>2</td>\n",
       "    </tr>\n",
       "    <tr>\n",
       "      <th>98</th>\n",
       "      <td>99.0</td>\n",
       "      <td>Toy Story</td>\n",
       "      <td>John Lasseter</td>\n",
       "      <td>1995</td>\n",
       "      <td>Disney, Pixar</td>\n",
       "      <td>NEW</td>\n",
       "    </tr>\n",
       "    <tr>\n",
       "      <th>99</th>\n",
       "      <td>100.0</td>\n",
       "      <td>Ben-Hur</td>\n",
       "      <td>William Wyler</td>\n",
       "      <td>1959</td>\n",
       "      <td>Metro-Goldwyn-Mayer</td>\n",
       "      <td>28</td>\n",
       "    </tr>\n",
       "  </tbody>\n",
       "</table>\n",
       "<p>100 rows × 6 columns</p>\n",
       "</div>"
      ],
      "text/plain": [
       "     Rank 10th anniversary list (2007)                   Director  Year  \\\n",
       "0     1.0                 Citizen Kane               Orson Welles  1941   \n",
       "1     2.0                The Godfather       Francis Ford Coppola  1972   \n",
       "2     3.0                   Casablanca             Michael Curtiz  1942   \n",
       "3     4.0                  Raging Bull            Martin Scorsese  1980   \n",
       "4     5.0          Singin' in the Rain  Gene Kelly, Stanley Donen  1952   \n",
       "..    ...                          ...                        ...   ...   \n",
       "95   96.0           Do the Right Thing                  Spike Lee  1989   \n",
       "96   97.0                 Blade Runner               Ridley Scott  1982   \n",
       "97   98.0          Yankee Doodle Dandy             Michael Curtiz  1942   \n",
       "98   99.0                    Toy Story              John Lasseter  1995   \n",
       "99  100.0                      Ben-Hur              William Wyler  1959   \n",
       "\n",
       "                                    Studio Change from 1998  \n",
       "0                                      RKO              NaN  \n",
       "1                                Paramount                1  \n",
       "2                          Warner Brothers                1  \n",
       "3                           United Artists               20  \n",
       "4                      Metro-Goldwyn-Mayer                5  \n",
       "..                                     ...              ...  \n",
       "95  Universal, 40 Acres & A Mule Filmworks              NEW  \n",
       "96       Warner Brothers, The Ladd Company              NEW  \n",
       "97                         Warner Brothers                2  \n",
       "98                           Disney, Pixar              NEW  \n",
       "99                     Metro-Goldwyn-Mayer               28  \n",
       "\n",
       "[100 rows x 6 columns]"
      ]
     },
     "execution_count": 3,
     "metadata": {},
     "output_type": "execute_result"
    }
   ],
   "source": [
    "tables = pd.read_html(url)\n",
    "fact_table = tables[1]\n",
    "fact_table"
   ]
  },
  {
   "cell_type": "code",
   "execution_count": 4,
   "metadata": {},
   "outputs": [
    {
     "data": {
      "text/html": [
       "<div>\n",
       "<style scoped>\n",
       "    .dataframe tbody tr th:only-of-type {\n",
       "        vertical-align: middle;\n",
       "    }\n",
       "\n",
       "    .dataframe tbody tr th {\n",
       "        vertical-align: top;\n",
       "    }\n",
       "\n",
       "    .dataframe thead th {\n",
       "        text-align: right;\n",
       "    }\n",
       "</style>\n",
       "<table border=\"1\" class=\"dataframe\">\n",
       "  <thead>\n",
       "    <tr style=\"text-align: right;\">\n",
       "      <th></th>\n",
       "      <th>Rank</th>\n",
       "      <th>Title</th>\n",
       "      <th>Director</th>\n",
       "      <th>Year</th>\n",
       "      <th>Studio</th>\n",
       "    </tr>\n",
       "  </thead>\n",
       "  <tbody>\n",
       "    <tr>\n",
       "      <th>0</th>\n",
       "      <td>1.0</td>\n",
       "      <td>Citizen Kane</td>\n",
       "      <td>Orson Welles</td>\n",
       "      <td>1941</td>\n",
       "      <td>RKO</td>\n",
       "    </tr>\n",
       "    <tr>\n",
       "      <th>1</th>\n",
       "      <td>2.0</td>\n",
       "      <td>The Godfather</td>\n",
       "      <td>Francis Ford Coppola</td>\n",
       "      <td>1972</td>\n",
       "      <td>Paramount</td>\n",
       "    </tr>\n",
       "    <tr>\n",
       "      <th>2</th>\n",
       "      <td>3.0</td>\n",
       "      <td>Casablanca</td>\n",
       "      <td>Michael Curtiz</td>\n",
       "      <td>1942</td>\n",
       "      <td>Warner Brothers</td>\n",
       "    </tr>\n",
       "    <tr>\n",
       "      <th>3</th>\n",
       "      <td>4.0</td>\n",
       "      <td>Raging Bull</td>\n",
       "      <td>Martin Scorsese</td>\n",
       "      <td>1980</td>\n",
       "      <td>United Artists</td>\n",
       "    </tr>\n",
       "    <tr>\n",
       "      <th>4</th>\n",
       "      <td>5.0</td>\n",
       "      <td>Singin' in the Rain</td>\n",
       "      <td>Gene Kelly, Stanley Donen</td>\n",
       "      <td>1952</td>\n",
       "      <td>Metro-Goldwyn-Mayer</td>\n",
       "    </tr>\n",
       "    <tr>\n",
       "      <th>...</th>\n",
       "      <td>...</td>\n",
       "      <td>...</td>\n",
       "      <td>...</td>\n",
       "      <td>...</td>\n",
       "      <td>...</td>\n",
       "    </tr>\n",
       "    <tr>\n",
       "      <th>95</th>\n",
       "      <td>96.0</td>\n",
       "      <td>Do the Right Thing</td>\n",
       "      <td>Spike Lee</td>\n",
       "      <td>1989</td>\n",
       "      <td>Universal, 40 Acres &amp; A Mule Filmworks</td>\n",
       "    </tr>\n",
       "    <tr>\n",
       "      <th>96</th>\n",
       "      <td>97.0</td>\n",
       "      <td>Blade Runner</td>\n",
       "      <td>Ridley Scott</td>\n",
       "      <td>1982</td>\n",
       "      <td>Warner Brothers, The Ladd Company</td>\n",
       "    </tr>\n",
       "    <tr>\n",
       "      <th>97</th>\n",
       "      <td>98.0</td>\n",
       "      <td>Yankee Doodle Dandy</td>\n",
       "      <td>Michael Curtiz</td>\n",
       "      <td>1942</td>\n",
       "      <td>Warner Brothers</td>\n",
       "    </tr>\n",
       "    <tr>\n",
       "      <th>98</th>\n",
       "      <td>99.0</td>\n",
       "      <td>Toy Story</td>\n",
       "      <td>John Lasseter</td>\n",
       "      <td>1995</td>\n",
       "      <td>Disney, Pixar</td>\n",
       "    </tr>\n",
       "    <tr>\n",
       "      <th>99</th>\n",
       "      <td>100.0</td>\n",
       "      <td>Ben-Hur</td>\n",
       "      <td>William Wyler</td>\n",
       "      <td>1959</td>\n",
       "      <td>Metro-Goldwyn-Mayer</td>\n",
       "    </tr>\n",
       "  </tbody>\n",
       "</table>\n",
       "<p>100 rows × 5 columns</p>\n",
       "</div>"
      ],
      "text/plain": [
       "     Rank                Title                   Director  Year  \\\n",
       "0     1.0         Citizen Kane               Orson Welles  1941   \n",
       "1     2.0        The Godfather       Francis Ford Coppola  1972   \n",
       "2     3.0           Casablanca             Michael Curtiz  1942   \n",
       "3     4.0          Raging Bull            Martin Scorsese  1980   \n",
       "4     5.0  Singin' in the Rain  Gene Kelly, Stanley Donen  1952   \n",
       "..    ...                  ...                        ...   ...   \n",
       "95   96.0   Do the Right Thing                  Spike Lee  1989   \n",
       "96   97.0         Blade Runner               Ridley Scott  1982   \n",
       "97   98.0  Yankee Doodle Dandy             Michael Curtiz  1942   \n",
       "98   99.0            Toy Story              John Lasseter  1995   \n",
       "99  100.0              Ben-Hur              William Wyler  1959   \n",
       "\n",
       "                                    Studio  \n",
       "0                                      RKO  \n",
       "1                                Paramount  \n",
       "2                          Warner Brothers  \n",
       "3                           United Artists  \n",
       "4                      Metro-Goldwyn-Mayer  \n",
       "..                                     ...  \n",
       "95  Universal, 40 Acres & A Mule Filmworks  \n",
       "96       Warner Brothers, The Ladd Company  \n",
       "97                         Warner Brothers  \n",
       "98                           Disney, Pixar  \n",
       "99                     Metro-Goldwyn-Mayer  \n",
       "\n",
       "[100 rows x 5 columns]"
      ]
     },
     "execution_count": 4,
     "metadata": {},
     "output_type": "execute_result"
    }
   ],
   "source": [
    "fact_table=fact_table.rename(columns={\"10th anniversary list (2007)\": \"Title\"})\n",
    "fact_table_final  = fact_table[[\"Rank\",\"Title\",\"Director\", \"Year\",\"Studio\"]]\n",
    "fact_table_final"
   ]
  },
  {
   "cell_type": "code",
   "execution_count": 5,
   "metadata": {
    "scrolled": true
   },
   "outputs": [
    {
     "data": {
      "text/plain": [
       "['Citizen Kane',\n",
       " 'The Godfather',\n",
       " 'Casablanca',\n",
       " 'Raging Bull',\n",
       " \"Singin' in the Rain\",\n",
       " 'Gone with the Wind',\n",
       " 'Lawrence of Arabia',\n",
       " \"Schindler's List\",\n",
       " 'Vertigo',\n",
       " 'The Wizard of Oz',\n",
       " 'City Lights',\n",
       " 'The Searchers',\n",
       " 'Star Wars',\n",
       " 'Psycho',\n",
       " '2001: A Space Odyssey',\n",
       " 'Sunset Boulevard',\n",
       " 'The Graduate',\n",
       " 'The General',\n",
       " 'On the Waterfront',\n",
       " \"It's a Wonderful Life\",\n",
       " 'Chinatown',\n",
       " 'Some Like It Hot',\n",
       " 'The Grapes of Wrath',\n",
       " 'E.T. the Extra-Terrestrial',\n",
       " 'To Kill a Mockingbird',\n",
       " 'Mr. Smith Goes to Washington',\n",
       " 'High Noon',\n",
       " 'All About Eve',\n",
       " 'Double Indemnity',\n",
       " 'Apocalypse Now',\n",
       " 'The Maltese Falcon',\n",
       " 'The Godfather Part II',\n",
       " \"One Flew Over the Cuckoo's Nest\",\n",
       " 'Snow White and the Seven Dwarfs',\n",
       " 'Annie Hall',\n",
       " 'The Bridge on the River Kwai',\n",
       " 'The Best Years of Our Lives',\n",
       " 'The Treasure of the Sierra Madre',\n",
       " 'Dr. Strangelove',\n",
       " 'The Sound of Music',\n",
       " 'King Kong',\n",
       " 'Bonnie and Clyde',\n",
       " 'Midnight Cowboy',\n",
       " 'The Philadelphia Story',\n",
       " 'Shane',\n",
       " 'It Happened One Night',\n",
       " 'A Streetcar Named Desire',\n",
       " 'Rear Window',\n",
       " 'Intolerance',\n",
       " 'The Lord of the Rings: The Fellowship of the Ring',\n",
       " 'West Side Story',\n",
       " 'Taxi Driver',\n",
       " 'The Deer Hunter',\n",
       " 'M*A*S*H',\n",
       " 'North by Northwest',\n",
       " 'Jaws',\n",
       " 'Rocky',\n",
       " 'The Gold Rush',\n",
       " 'Nashville',\n",
       " 'Duck Soup',\n",
       " \"Sullivan's Travels\",\n",
       " 'American Graffiti',\n",
       " 'Cabaret',\n",
       " 'Network',\n",
       " 'The African Queen',\n",
       " 'Raiders of the Lost Ark',\n",
       " \"Who's Afraid of Virginia Woolf?\",\n",
       " 'Unforgiven',\n",
       " 'Tootsie',\n",
       " 'A Clockwork Orange',\n",
       " 'Saving Private Ryan',\n",
       " 'The Shawshank Redemption',\n",
       " 'Butch Cassidy and the Sundance Kid',\n",
       " 'The Silence of the Lambs',\n",
       " 'In the Heat of the Night',\n",
       " 'Forrest Gump',\n",
       " \"All the President's Men\",\n",
       " 'Modern Times',\n",
       " 'The Wild Bunch',\n",
       " 'The Apartment',\n",
       " 'Spartacus',\n",
       " 'Sunrise: A Song of Two Humans',\n",
       " 'Titanic',\n",
       " 'Easy Rider',\n",
       " 'A Night at the Opera',\n",
       " 'Platoon',\n",
       " '12 Angry Men',\n",
       " 'Bringing Up Baby',\n",
       " 'The Sixth Sense',\n",
       " 'Swing Time',\n",
       " \"Sophie's Choice\",\n",
       " 'Goodfellas',\n",
       " 'The French Connection',\n",
       " 'Pulp Fiction',\n",
       " 'The Last Picture Show',\n",
       " 'Do the Right Thing',\n",
       " 'Blade Runner',\n",
       " 'Yankee Doodle Dandy',\n",
       " 'Toy Story',\n",
       " 'Ben-Hur']"
      ]
     },
     "execution_count": 5,
     "metadata": {},
     "output_type": "execute_result"
    }
   ],
   "source": [
    "movie_list = fact_table[\"Title\"].tolist()\n",
    "movie_list"
   ]
  },
  {
   "cell_type": "markdown",
   "metadata": {},
   "source": [
    "OMDb API  --> Get MOVIE Plot and Viewer Discrestion Rating"
   ]
  },
  {
   "cell_type": "code",
   "execution_count": 6,
   "metadata": {},
   "outputs": [],
   "source": [
    "# Dependencies\n",
    "import requests\n",
    "import json\n",
    "from config import api_key\n",
    "from pprint import pprint\n",
    "\n",
    "url = f\"http://www.omdbapi.com/?apikey={api_key}&t=\"\n"
   ]
  },
  {
   "cell_type": "code",
   "execution_count": null,
   "metadata": {},
   "outputs": [
    {
     "name": "stdout",
     "output_type": "stream",
     "text": [
      "Sunrise: A Song of Two Humans does not exist\n"
     ]
    }
   ],
   "source": [
    "\n",
    "omdb_df = pd.DataFrame(columns = ['Title', 'Rated','Plot'])\n",
    "for x in movie_list:\n",
    "    try:\n",
    "        response = requests.get(url + x)\n",
    "        data = response.json()\n",
    "        #pprint(data)\n",
    "        rate = data[\"Rated\"]\n",
    "        #print(rate)\n",
    "        plot = data[\"Plot\"]\n",
    "        #print(plot)\n",
    "        omdb_df = omdb_df.append({'Title':x,'Rated':rate,\"Plot\":plot}, ignore_index=True)\n",
    "    except KeyError:\n",
    "        print(x + \" does not exist\")\n",
    "        "
   ]
  },
  {
   "cell_type": "code",
   "execution_count": null,
   "metadata": {},
   "outputs": [],
   "source": [
    "omdb_df"
   ]
  },
  {
   "cell_type": "markdown",
   "metadata": {},
   "source": [
    "CSV File"
   ]
  },
  {
   "cell_type": "code",
   "execution_count": null,
   "metadata": {},
   "outputs": [],
   "source": [
    "# Store filepath in a variable\n",
    "file_one = \"movies_metadata.csv\"\n",
    "file_one_df = pd.read_csv(file_one)\n",
    "#file_one_df.head()"
   ]
  },
  {
   "cell_type": "code",
   "execution_count": null,
   "metadata": {},
   "outputs": [],
   "source": [
    "clean_meta = file_one_df[[\"original_title\",\"revenue\"]]\n",
    "clean_meta"
   ]
  },
  {
   "cell_type": "code",
   "execution_count": null,
   "metadata": {},
   "outputs": [],
   "source": [
    "clean_meta=clean_meta.rename(columns={\"original_title\": \"Title\"})\n",
    "clean_meta"
   ]
  },
  {
   "cell_type": "code",
   "execution_count": null,
   "metadata": {},
   "outputs": [],
   "source": [
    "result4 = pd.merge(clean_meta, omdb_df, on=\"Title\")\n",
    "result4"
   ]
  },
  {
   "cell_type": "code",
   "execution_count": null,
   "metadata": {},
   "outputs": [],
   "source": [
    "final = pd.merge(fact_table_final, result4, on=\"Title\")\n",
    "final"
   ]
  },
  {
   "cell_type": "code",
   "execution_count": null,
   "metadata": {},
   "outputs": [],
   "source": [
    "dup_drop = final.drop_duplicates(subset=['Rank'])"
   ]
  },
  {
   "cell_type": "code",
   "execution_count": null,
   "metadata": {},
   "outputs": [],
   "source": [
    "dup_drop"
   ]
  },
  {
   "cell_type": "code",
   "execution_count": null,
   "metadata": {},
   "outputs": [],
   "source": [
    "#dup_drop.index += 1 \n",
    "#result.index\n",
    "#dup_drop"
   ]
  },
  {
   "cell_type": "code",
   "execution_count": null,
   "metadata": {},
   "outputs": [],
   "source": [
    "dup_drop[\"Rank\"]= dup_drop[\"Rank\"].astype('float')\n",
    "dup_drop[\"Rank\"]= dup_drop[\"Rank\"].astype('int')"
   ]
  },
  {
   "cell_type": "code",
   "execution_count": null,
   "metadata": {},
   "outputs": [],
   "source": [
    "dup_drop"
   ]
  },
  {
   "cell_type": "code",
   "execution_count": null,
   "metadata": {},
   "outputs": [],
   "source": [
    "\n",
    "#dup_drop=dup_drop.astype('int')\n",
    "#dup_drop"
   ]
  },
  {
   "cell_type": "code",
   "execution_count": null,
   "metadata": {
    "scrolled": true
   },
   "outputs": [],
   "source": [
    "dup_drop = dup_drop.applymap(str)\n"
   ]
  },
  {
   "cell_type": "code",
   "execution_count": null,
   "metadata": {},
   "outputs": [],
   "source": [
    "\n",
    "dup_drop = dup_drop.set_index('Rank')\n",
    "dup_drop"
   ]
  },
  {
   "cell_type": "code",
   "execution_count": null,
   "metadata": {},
   "outputs": [],
   "source": [
    "#dup_drop = dup_drop.columns=dup_drop.columns.str.replace('[.]', '')"
   ]
  },
  {
   "cell_type": "code",
   "execution_count": null,
   "metadata": {},
   "outputs": [],
   "source": [
    "#dup_drop"
   ]
  },
  {
   "cell_type": "code",
   "execution_count": null,
   "metadata": {},
   "outputs": [],
   "source": [
    "data_json = dup_drop.to_dict('index')\n",
    "data_json\n"
   ]
  },
  {
   "cell_type": "code",
   "execution_count": null,
   "metadata": {},
   "outputs": [],
   "source": [
    "#data_json.keys()"
   ]
  },
  {
   "cell_type": "code",
   "execution_count": null,
   "metadata": {},
   "outputs": [],
   "source": [
    "import pymongo\n",
    "\n",
    "# Setup connection to mongodb\n",
    "conn = \"mongodb://localhost:27017\"\n",
    "client = pymongo.MongoClient(conn)\n",
    "\n",
    "# Select database and collection to use\n",
    "db = client.movie_data2\n",
    "collection = db.movie_facts2\n",
    "\n",
    "collection.insert_one(data_json)"
   ]
  },
  {
   "cell_type": "code",
   "execution_count": null,
   "metadata": {},
   "outputs": [],
   "source": []
  }
 ],
 "metadata": {
  "kernelspec": {
   "display_name": "Python 3",
   "language": "python",
   "name": "python3"
  },
  "language_info": {
   "codemirror_mode": {
    "name": "ipython",
    "version": 3
   },
   "file_extension": ".py",
   "mimetype": "text/x-python",
   "name": "python",
   "nbconvert_exporter": "python",
   "pygments_lexer": "ipython3",
   "version": "3.8.5"
  }
 },
 "nbformat": 4,
 "nbformat_minor": 4
}
